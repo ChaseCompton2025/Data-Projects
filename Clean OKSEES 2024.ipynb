{
 "cells": [
  {
   "cell_type": "code",
   "execution_count": 1,
   "id": "d8c9c848",
   "metadata": {},
   "outputs": [],
   "source": [
    "import pandas as pd\n",
    "import os\n",
    "\n",
    "# Path to the directory containing the Excel files\n",
    "directory = \"Dirty Data\"\n",
    "\n",
    "# Get a list of all Excel files in the directory\n",
    "excel_files = [file for file in os.listdir(directory) if file.endswith('.xlsx')]\n",
    "\n",
    "# Read each Excel file into a pandas DataFrame and store them in a list\n",
    "dfs = []\n",
    "for file in excel_files:\n",
    "    df = pd.read_excel(os.path.join(directory, file))\n",
    "    dfs.append(df)\n",
    "\n",
    "# Concatenate all DataFrames in the list along the rows (stack them together)\n",
    "stacked_df = pd.concat(dfs, ignore_index=True)\n",
    "\n",
    "# Assuming stacked_df is the DataFrame containing combined data from all Excel files\n",
    "# Convert \"Start time\" column to datetime format\n",
    "stacked_df['Start time'] = pd.to_datetime(stacked_df['Start time'])\n",
    "\n",
    "# Filter out rows before March 26, 2024\n",
    "stacked_df = stacked_df[stacked_df['Start time'] >= '2024-03-26']\n",
    "\n",
    "# Now stacked_df contains only the rows with \"Start time\" on or after March 26, 2024"
   ]
  },
  {
   "cell_type": "markdown",
   "id": "e1da0db7-4aa1-4e9c-beb1-647bf09ab304",
   "metadata": {},
   "source": [
    "# Identifying the Data Agency Errors:"
   ]
  },
  {
   "cell_type": "code",
   "execution_count": 2,
   "id": "edfbfa54",
   "metadata": {},
   "outputs": [],
   "source": [
    "stacked_df['Which agency are you a part of?'] = stacked_df['Which agency are you a part of?'].str.strip()\n",
    "\n",
    "# Replace non-breaking space (U+00A0) with regular space (U+0020) in the \"Which agency are you a part of?\" column\n",
    "stacked_df['Which agency are you a part of?'] = stacked_df['Which agency are you a part of?'].str.replace('\\u00A0', '\\u0020', regex=False)\n",
    "\n",
    "#stacked_df"
   ]
  },
  {
   "cell_type": "code",
   "execution_count": 3,
   "id": "b0d0a73f",
   "metadata": {},
   "outputs": [],
   "source": [
    "agency_df = pd.read_excel(\"Agency List.xlsx\")\n",
    "# Remove leading and trailing whitespace from the \"Agency\" column\n",
    "agency_df['Agency'] = agency_df['Agency'].str.strip()\n",
    "#agency_df"
   ]
  },
  {
   "cell_type": "code",
   "execution_count": 4,
   "id": "fd234b83",
   "metadata": {},
   "outputs": [],
   "source": [
    "# Find values in stacked_df['Which agency are you a part of?'] that are not in agency_df['Agency']\n",
    "not_found_values = stacked_df[~stacked_df['Which agency are you a part of?'].isin(agency_df['Agency'])]['Which agency are you a part of?'].unique()\n",
    "\n",
    "# Create a DataFrame with the not found values\n",
    "not_found_df = pd.DataFrame({'Agency Not Found': not_found_values})\n",
    "\n",
    "#not_found_df\n",
    "not_found_df.to_excel(\"agency_not_found.xlsx\", index=False)\n",
    "#not_found_df"
   ]
  },
  {
   "cell_type": "markdown",
   "id": "ea38cee5-1535-457e-b026-3b54646ceeb2",
   "metadata": {},
   "source": [
    "# Fixing the Data Issue:"
   ]
  },
  {
   "cell_type": "code",
   "execution_count": 5,
   "id": "e454ad3a-c99e-462f-a5b6-8608409eac60",
   "metadata": {},
   "outputs": [],
   "source": [
    "#Reading in Dataframe with the agencies corrected mapping:\n",
    "corrected_agency_df = pd.read_excel(\"Corrected Agency List.xlsx\", sheet_name=\"Corrected Agency List\")\n",
    "#Applying the correct mapping through a join:\n",
    "merged_df = stacked_df.merge(corrected_agency_df, on='Which agency are you a part of?', how='left')\n",
    "\n",
    "# Get a list of column names\n",
    "columns = merged_df.columns.tolist()\n",
    "\n",
    "# Remove 'New Agency' from the list of columns\n",
    "columns.remove('New Agency')\n",
    "\n",
    "# Insert 'New Agency' at the 6th position\n",
    "columns.insert(5, 'New Agency')\n",
    "\n",
    "# Reorder the columns in merged_df\n",
    "merged_df = merged_df[columns]\n",
    "\n",
    "# Drop the column from merged_df that contains the incorrect values:\n",
    "merged_df.drop(columns=['Which agency are you a part of?'], inplace=True)\n",
    "\n",
    "#Renamming column with the correct Agency to match question:\n",
    "merged_df.rename(columns={'New Agency': 'Which agency are you a part of?'}, inplace=True)\n",
    "\n",
    "#merged_df\n",
    "#Checking to make sure it worked.\n",
    "#filtered_df = merged_df[merged_df['Which agency are you a part of?'].isin(not_found_values)]\n",
    "#pd.set_option('display.max_rows', None)\n",
    "#filtered_df[['Which agency are you a part of?', 'New Agency']]"
   ]
  },
  {
   "cell_type": "code",
   "execution_count": 6,
   "id": "92b10b1f-9507-4a7f-9409-906840fb233c",
   "metadata": {},
   "outputs": [],
   "source": [
    "merged_df['OKSEES Year'] = merged_df['Start time'].dt.year\n",
    "merged_df.insert(0, 'OKSEES Year', merged_df.pop('OKSEES Year'))\n",
    "#merged_df"
   ]
  },
  {
   "cell_type": "code",
   "execution_count": 7,
   "id": "62ae11d6-3e52-4e34-b984-4722c5370756",
   "metadata": {},
   "outputs": [],
   "source": [
    "cabinet_df = pd.read_excel(\"Corrected Agency List.xlsx\", sheet_name=\"Agency to Cabinet\")\n",
    "merged_df_2 = merged_df.merge(cabinet_df, on='Which agency are you a part of?', how='left')\n",
    "pd.set_option('display.max_columns', None)\n",
    "merged_df_2.insert(11, 'Cabinet', merged_df_2.pop('Cabinet'))\n",
    "#merged_df_2\n",
    "#cabinet_df"
   ]
  },
  {
   "cell_type": "code",
   "execution_count": 8,
   "id": "21839cec-fe59-47ce-8c68-fcc0d916282f",
   "metadata": {},
   "outputs": [
    {
     "name": "stderr",
     "output_type": "stream",
     "text": [
      "C:\\Users\\ChaseC\\AppData\\Local\\Temp\\ipykernel_10804\\1049057356.py:8: FutureWarning: The default value of regex will change from True to False in a future version. In addition, single character regular expressions will *not* be treated as literal strings when regex=True.\n",
      "  merged_df_2[col] = merged_df_2[col].str.replace('.', '')\n"
     ]
    }
   ],
   "source": [
    "#Create a list that has values that need \".\" removed:\n",
    "period_columns = ['How long have you worked for your agency?', \n",
    "                  'In which generation were you born?', \n",
    "                  'Are you a full-time employee?', \n",
    "                  'How would you describe your work setting?']\n",
    "\n",
    "for col in period_columns:\n",
    "    merged_df_2[col] = merged_df_2[col].str.replace('.', '')\n"
   ]
  },
  {
   "cell_type": "code",
   "execution_count": 9,
   "id": "34994e1c-d64d-42a0-baf5-81f383c1e354",
   "metadata": {},
   "outputs": [],
   "source": [
    "#Before we save we need to remove \"Legislative Branch\", \"Governor\", and \"Judicial Branch\":\n",
    "# Define the values to be removed\n",
    "values_to_remove = [\"Legislative Branch\", \"Governor\", \"Judicial Branch\", \"Cabinet Not Found\"]\n",
    "\n",
    "# Filter the dataframe\n",
    "merged_df_2 = merged_df_2[~merged_df_2['Cabinet'].isin(values_to_remove)]"
   ]
  },
  {
   "cell_type": "code",
   "execution_count": 10,
   "id": "ab48f251-663f-4305-be15-8412a125511b",
   "metadata": {},
   "outputs": [],
   "source": [
    "# Create a Pandas Excel writer\n",
    "writer = pd.ExcelWriter('Cleaned Data/OKSEES Clean Data 2024.xlsx', engine='xlsxwriter')\n",
    "    # Write merged_df to the Excel file\n",
    "# Write merged_df to the Excel file\n",
    "merged_df_2.to_excel(writer, index=False, sheet_name='Sheet1')\n",
    "\n",
    "# Access the workbook and worksheet objects\n",
    "workbook = writer.book\n",
    "worksheet = writer.sheets['Sheet1']\n",
    "\n",
    "# Turn on autofilter for all columns\n",
    "worksheet.autofilter(0, 0, merged_df_2.shape[0], merged_df_2.shape[1] - 1)\n",
    "\n",
    "# Adjust column width to fit the length of the text\n",
    "for i, col in enumerate(merged_df_2.columns):\n",
    "    column_len = max(merged_df_2[col].astype(str).str.len().max(), len(col)) + 2\n",
    "    worksheet.set_column(i, i, column_len)\n",
    "\n",
    "# Save the Excel file\n",
    "writer.close()"
   ]
  }
 ],
 "metadata": {
  "kernelspec": {
   "display_name": "Python 3 (ipykernel)",
   "language": "python",
   "name": "python3"
  },
  "language_info": {
   "codemirror_mode": {
    "name": "ipython",
    "version": 3
   },
   "file_extension": ".py",
   "mimetype": "text/x-python",
   "name": "python",
   "nbconvert_exporter": "python",
   "pygments_lexer": "ipython3",
   "version": "3.11.4"
  }
 },
 "nbformat": 4,
 "nbformat_minor": 5
}
