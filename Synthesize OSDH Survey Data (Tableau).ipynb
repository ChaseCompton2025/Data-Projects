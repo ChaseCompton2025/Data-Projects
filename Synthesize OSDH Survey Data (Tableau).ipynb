{
 "cells": [
  {
   "cell_type": "markdown",
   "id": "69d1a4b0-7b80-47db-9ca1-b5c88c874bbb",
   "metadata": {},
   "source": [
    "#1: Packages, read in mapping files, and define folders"
   ]
  },
  {
   "cell_type": "code",
   "execution_count": 1,
   "id": "af6eb521-8b55-46fc-ae60-313c5b7a289e",
   "metadata": {},
   "outputs": [],
   "source": [
    "import pandas as pd\n",
    "import os\n",
    "import string\n",
    "\n",
    "#Reading in the excel file that contains the mappings of Survey Items to their updated language to improve data accuracy across datasets:\n",
    "survey_item_mapping_df = pd.read_excel(\"Survey Item Language Update List.xlsx\")\n",
    "# Convert the mapping survey_item_mapping_df into a dictionary\n",
    "survey_item_mapping = dict(zip(survey_item_mapping_df['Survey Item'], survey_item_mapping_df['Updated New Survey Item Language']))\n",
    "\n",
    "#Read in the excel file that has all the index info for the survey items:\n",
    "survey_item_index_df = pd.read_excel(\"Survey Item Indexes.xlsx\", sheet_name=\"Indexes\")\n",
    "\n",
    "#The folder that contains all the OSDH survey data contained in seperate excel files:\n",
    "folder_path = 'OSDH Histroical Survey Data Backups'\n",
    "\n",
    "#Creating a dictinoary that will store all the dfs that will be sent to an excel file.\n",
    "excel_dfs = {}\n",
    "\n",
    "#Creating a list of excel sheets and a blank dataframe to create an excel sheets info \n",
    "    #which will hold a desciption of each excel sheet, since we have so many.\n",
    "excel_sheets_info = pd.DataFrame(columns=['Excel Sheet', 'Description'])\n",
    "excel_sheets_list = []\n",
    "\n",
    "#We are appending it because we want it to appear first in the excel file:\n",
    "excel_dfs[\"Excel Sheets Descriptions\"] = excel_sheets_info\n",
    "\n",
    "#survey_item_mapping_dict\n",
    "#update_survey_item_language_df"
   ]
  },
  {
   "cell_type": "markdown",
   "id": "e3fa6fb0-0cef-4af6-b6b5-aa198640dda1",
   "metadata": {},
   "source": [
    "#2: Loop through excel file and update survey items"
   ]
  },
  {
   "cell_type": "code",
   "execution_count": 2,
   "id": "45abbe64-cea4-4d97-b657-51e6a597eca4",
   "metadata": {},
   "outputs": [],
   "source": [
    "#Create an empty list that will store the survey dataframes to concat\n",
    "dfs = []\n",
    "\n",
    "#Loop through all Excel files in the folder\n",
    "for filename in os.listdir(folder_path):\n",
    "    if filename.endswith('.xlsx') or filename.endswith('.xls'):\n",
    "        file_path = os.path.join(folder_path, filename)\n",
    "        \n",
    "        # Read the Excel file with all columns as text to avoid intergers errors upon dataframe concating:\n",
    "        df = pd.read_excel(file_path, dtype=str)\n",
    "        \n",
    "        #Rename columns if they match the ones in the survey_item_mapping\n",
    "        df.rename(columns=survey_item_mapping, inplace=True)\n",
    "        \n",
    "        #Append the dataframe to the list to get concated later\n",
    "        dfs.append(df)\n",
    "\n",
    "#Concatenate all DataFrames together into one DataFrame\n",
    "all_OSDH_survey_df = pd.concat(dfs, ignore_index=True)"
   ]
  },
  {
   "cell_type": "markdown",
   "id": "d77ada2b-83c4-4c32-9b58-25c866768798",
   "metadata": {},
   "source": [
    "#3: Minor Data cleaning and value remappings."
   ]
  },
  {
   "cell_type": "code",
   "execution_count": 3,
   "id": "e0280af0-4fdb-42b0-9518-b76d14d5b4f0",
   "metadata": {},
   "outputs": [],
   "source": [
    "#The following column was kept to verify the data was OSDH in the orginial file, but is no longer needed:\n",
    "all_OSDH_survey_df.drop(columns=[\"Which agency are you a part of?\"], inplace=True)\n",
    "\n",
    "#Setting up remapping so 5 point items have consitent values\n",
    "five_point_value_remapping = {\n",
    "    'Strongly agree':      'Strongly Agree', \n",
    "    'Strongly disagree':   'Strongly Disagree',\n",
    "    \n",
    "    'Very satisfied':      'Very Satisfied',   \n",
    "    'Very dissatisfied':   'Very Dissatisfied'}\n",
    "\n",
    "#Apply the 5 point remapping across the entire dataframe:\n",
    "all_OSDH_survey_df.replace(five_point_value_remapping, inplace=True)\n",
    "\n",
    "#Due to character length issue in dataframe joins in Tableau we need to shorten the DEI Background question to be shorter:\n",
    "#Rename question to shorter version to make refrencing easier in Tableau:\n",
    "all_OSDH_survey_df.rename(columns={(\"Employees at my agency can reach their highest potential, regardless of their background\" +\n",
    "                                   \" (e.g., all ages, cultural backgrounds, genders, races, religions, etc.).\") : \n",
    "                                   \"Employees at my agency can reach their highest potential, regardless of their background.\"}, inplace=True)\n",
    "#all_OSDH_survey_df"
   ]
  },
  {
   "cell_type": "markdown",
   "id": "7f9e4e65-7d06-4356-a6fc-08459343b852",
   "metadata": {},
   "source": [
    "#4: Clean Burnout columns."
   ]
  },
  {
   "cell_type": "code",
   "execution_count": 4,
   "id": "53725e29-c9cd-4377-aac3-c988255501db",
   "metadata": {},
   "outputs": [],
   "source": [
    "#Define mapping to remove text in parathesis from 0-10 scale burnout data column:\n",
    "burnout_mapping = {\n",
    "    '0 (Never)':      '0', \n",
    "    '10 (Always)':    '10'}\n",
    "\n",
    "\n",
    "#Rename question to shorter version to make refrencing easier in Tableau:\n",
    "all_OSDH_survey_df.rename(columns={(\"Currently in your job, please rate how often you experience burnout on a scale of 0-10,\" +\n",
    "                                     \" where 0 is never experiencing burnout and 10 is always experiencing burnout.\") : \"Burnout Scale\"}, inplace=True)\n",
    "\n",
    "#Apply Burnout Mapping\n",
    "all_OSDH_survey_df[\"Burnout Scale\"].replace(burnout_mapping, inplace=True)\n",
    "\n",
    "#remap the OKSEES 2021 values to be on a 0-10 scale to be compatibale in Qualtrics\n",
    "burnout_oksees_2021_mapping = {\n",
    "    'Strongly Disagree' :'0',    #Favorable,   Low (0-3)\n",
    "    'Disagree'          :'2.5',  #Favorable,   Low (0-3)\n",
    "    'Neutral'           :'5',    #Neutral,     Moderate (4-6)\n",
    "    'Agree'             :'7.5',  #Unfavorable, High (7-10)\n",
    "    'Strongly Agree'    :'10'}   #Unfavorable, High (7-10)\n",
    "\n",
    "#Apply Burnout remapping for OKSEES 2021 burnout data\n",
    "all_OSDH_survey_df[\"I feel burned out from my work.\"].replace(burnout_oksees_2021_mapping, inplace=True)\n",
    "\n",
    "#Take the values from the OKSEES 2021 and fill them in on the 11 point burnout column\n",
    "all_OSDH_survey_df[\"Burnout Scale\"] = all_OSDH_survey_df[\"Burnout Scale\"].fillna(all_OSDH_survey_df[\"I feel burned out from my work.\"])\n",
    "\n",
    "#Drop orginial column we we no longer need:\n",
    "all_OSDH_survey_df.drop(columns=[\"I feel burned out from my work.\"], inplace=True)\n",
    "\n",
    "# Convert to numeric\n",
    "all_OSDH_survey_df[\"Burnout Scale\"] = pd.to_numeric(all_OSDH_survey_df[\"Burnout Scale\"], errors='coerce')\n",
    "\n",
    "# Create the \"Burnout Group\" column\n",
    "all_OSDH_survey_df['Burnout Group'] = pd.cut(\n",
    "    all_OSDH_survey_df['Burnout Scale'],\n",
    "    bins=[-float('inf'), 3, 6, 10],\n",
    "    labels=['Low (0-3)', 'Moderate (4-6)', 'High (7-10)'])\n",
    "\n",
    "#Create column to graph the favorability of burnout:\n",
    "all_OSDH_survey_df['I am experiencing burnout.'] = all_OSDH_survey_df['Burnout Group'].apply(\n",
    "                                                                       lambda x: 'Favorable' if x == 'Low (0-3)' else \n",
    "                                                                                 'Neutral' if x == 'Moderate (4-6)' else \n",
    "                                                                                 'Unfavorable' if x == 'High (7-10)' else None)\n",
    "\n",
    "#all_OSDH_survey_df"
   ]
  },
  {
   "cell_type": "markdown",
   "id": "2318ffea-08f0-41c3-896b-6df07421b4e8",
   "metadata": {},
   "source": [
    "#5: Clean eNPS columns."
   ]
  },
  {
   "cell_type": "code",
   "execution_count": 5,
   "id": "48a5b9ad-cad0-4377-8e0b-e7e9c9734a2a",
   "metadata": {},
   "outputs": [],
   "source": [
    "#Rename question to shorter version to make refrencing easier in Tableau:\n",
    "all_OSDH_survey_df.rename(columns={(\"On a scale of 0-10, how likely are you to recommend to others that OSDH is a great place to work, \"\n",
    "                                     +\"where 0 is not at all likely to recommend and 10 is extremely likely to recommend?\") : \"eNPS Scale\"}, inplace=True)\n",
    "\n",
    "#remap the OKSEES 2021 values to be on a 0-10 scale to be compatibale in Qualtrics\n",
    "recommend_workplace_mapping = {\n",
    "    'Strongly Disagree' :'0',   #Detractors (0-6)\n",
    "    'Disagree'          :'2.5', #Detractors (0-6)\n",
    "    'Neutral'           :'5',   #Detractors (0-6)\n",
    "    'Agree'             :'7.5', #Passives (7-8)\n",
    "    'Strongly Agree'    :'10'}  #Promoters (9-10)\n",
    "\n",
    "#Apply Burnout remapping for OKSEES 2021 burnout data\n",
    "all_OSDH_survey_df[\"I would recommend my agency as a good place to work.\"].replace(recommend_workplace_mapping, inplace=True)\n",
    "\n",
    "#Take the values from the OKSEES 2021 and fill them in on the 11 point burnout column\n",
    "all_OSDH_survey_df[\"eNPS Scale\"] = all_OSDH_survey_df[\"eNPS Scale\"].fillna(all_OSDH_survey_df[\"I would recommend my agency as a good place to work.\"])\n",
    "\n",
    "#Drop orginial columns we we no longer need:\n",
    "all_OSDH_survey_df.drop(columns=[\"I would recommend my agency as a good place to work.\"], inplace=True)\n",
    "\n",
    "# Convert to numeric\n",
    "all_OSDH_survey_df[\"eNPS Scale\"] = pd.to_numeric(all_OSDH_survey_df[\"eNPS Scale\"], errors='coerce')\n",
    "\n",
    "# Create the \"Burnout Group\" column\n",
    "all_OSDH_survey_df['eNPS Group'] = pd.cut(\n",
    "    all_OSDH_survey_df[\"eNPS Scale\"],\n",
    "    bins=[-float('inf'), 6, 8, 10],\n",
    "    labels=['Detractors (0-6)', 'Passives (7-8)', 'Promoters (9-10)'])\n",
    "\n",
    "#Recreate the column to graph the favorability of the survey item itself:\n",
    "all_OSDH_survey_df[\"I would recommend my agency as a good place to work.\"] = pd.cut(\n",
    "    all_OSDH_survey_df[\"eNPS Scale\"],\n",
    "    bins=[-float('inf'), 3, 6, 10],\n",
    "    labels=['Unfavorable', 'Neutral', 'Favorable'])\n"
   ]
  },
  {
   "cell_type": "markdown",
   "id": "fe2e0474-ddbf-4919-b369-80da7e6c4548",
   "metadata": {},
   "source": [
    "#6: Rework Intent to Stay Column:"
   ]
  },
  {
   "cell_type": "raw",
   "id": "a398404a-c6ee-48bf-b0b9-5cd56f7d4365",
   "metadata": {},
   "source": [
    "#Rename question to match Qualtrics Language\n",
    "all_OSDH_survey_df.rename(columns={\"I see myself working at my agency one year from now.\": \"Intent to Stay\",}, inplace=True)\n",
    "\n",
    "#remap intent to stay to time intervals\n",
    "intent_to_stay_mapping = {\n",
    "    'Strongly Disagree' : \"6 months or less\",  \n",
    "    'Disagree'          : \"Over 6 months, up to 1 year\",  \n",
    "    'Neutral'           : \"Over 6 months, up to 1 year\",  #assigning neutral to this group, so to not inflate favorability % of intent to stay\n",
    "    'Agree'             : \"Over 1 year, up to 3 years\",  \n",
    "    'Strongly Agree'    : \"Over 1 year, up to 3 years\"} \n",
    "\n",
    "#Apply Intent to Stay remapping:\n",
    "all_OSDH_survey_df[\"Intent to Stay\"].replace(intent_to_stay_mapping, inplace=True)"
   ]
  },
  {
   "cell_type": "markdown",
   "id": "b7633268-3d1f-4e75-a8a5-cbdd1fcd9e67",
   "metadata": {},
   "source": [
    "#7: Define function to set up data exports for specific dataframe:"
   ]
  },
  {
   "cell_type": "code",
   "execution_count": 6,
   "id": "d7eedc6c-624c-4257-b37f-d58857b7c971",
   "metadata": {},
   "outputs": [],
   "source": [
    "def set_up_data_export(list, excel_sheet, desc):\n",
    "\n",
    "    #Appending Data to the excel_dfs dictionary:\n",
    "    excel_dfs[excel_sheet] = all_OSDH_survey_df[list]\n",
    "    \n",
    "    #Assigning Excel Sheet Info Dataframe:\n",
    "    new_excel_sheet_info = {'Excel Sheet': excel_sheet, 'Description': desc}\n",
    "\n",
    "    # Append the new row data to the list\n",
    "    excel_sheets_list.append(new_excel_sheet_info)\n",
    "\n",
    "#Save the meta Data to a sheet:\n",
    "set_up_data_export([\"uniqueidentifier\", \"Co\", \"Finished\", \"SurveyName\", \"SurveyStartDate\", \"SurveyCloseDate\"],\n",
    "                    \"meta_data\",\n",
    "                    \"Contains meta data for respondents.\")\n",
    "\n",
    "#Save the eNPS Data to a sheet:\n",
    "set_up_data_export([\"uniqueidentifier\", \"eNPS Scale\", \"eNPS Group\"],\n",
    "                    \"eNPS_data\",\n",
    "                    \"Contains eNPS response data.\")\n",
    "\n",
    "#Save the Burnout Data to a sheet:\n",
    "set_up_data_export([\"uniqueidentifier\", \"Burnout Scale\", \"Burnout Group\"],\n",
    "                    \"burnout_data\",\n",
    "                    \"Contains burnout response data.\")\n",
    "              "
   ]
  },
  {
   "cell_type": "markdown",
   "id": "f73cd00a-7495-4c3e-9f71-2288489bda8f",
   "metadata": {},
   "source": [
    "#8: Remap survey item values to favorability scale before data export set up:"
   ]
  },
  {
   "cell_type": "markdown",
   "id": "46563b27-98e5-4613-a380-d74e126c7021",
   "metadata": {},
   "source": [
    "REMOVE THE CODE BELOW AFTER OSDHEES 2025 data is added into the file, since the service column will automaically populate from reading in the files."
   ]
  },
  {
   "cell_type": "code",
   "execution_count": 7,
   "id": "5075e758-b56c-42e9-b138-f205adae3457",
   "metadata": {},
   "outputs": [],
   "source": [
    "# Create a blank column\n",
    "all_OSDH_survey_df[\"This agency delivers high-quality services with a commitment to continuous improvement.\"] = None"
   ]
  },
  {
   "cell_type": "code",
   "execution_count": 8,
   "id": "21f06e46-3545-48bd-b639-b5c139b09417",
   "metadata": {},
   "outputs": [],
   "source": [
    "#Send all the survey items using the survey item index dataframe to a list for easy extraction:\n",
    "survey_item_list = survey_item_index_df['Survey Item'].tolist()\n",
    "\n",
    "#Create favorability remapping for recode\n",
    "favorability_mapping = {\n",
    "    'Strongly Agree':      'Favorable', \n",
    "    'Agree':               'Favorable',\n",
    "    'Very Satisfied':      'Favorable',\n",
    "    'Satisfied':           'Favorable',\n",
    "    \n",
    "    'Neutral':             'Neutral',\n",
    "    \n",
    "    'Disagree':            'Unfavorable',\n",
    "    'Strongly Disagree':   'Unfavorable',\n",
    "    'Dissatisfied':        'Unfavorable',\n",
    "    'Very Dissatisfied':   'Unfavorable'}\n",
    "\n",
    "# Iterate over each column in survey_item_list and apply the mapping\n",
    "for column in survey_item_list:\n",
    "    if column in all_OSDH_survey_df.columns:  # Ensure the column exists in the DataFrame\n",
    "        all_OSDH_survey_df[column] = all_OSDH_survey_df[column].replace(favorability_mapping)\n",
    "\n",
    "#Save the survey item responses to a sheet:\n",
    "set_up_data_export(([\"uniqueidentifier\", \"SurveyName\"] + survey_item_list),\n",
    "                    \"survey_item_data\",\n",
    "                    \"Contains survey item response data.\")"
   ]
  },
  {
   "cell_type": "markdown",
   "id": "7e466a7a-6c24-4fcd-86ed-bfea538f575f",
   "metadata": {},
   "source": [
    "#9: Generate Index File"
   ]
  },
  {
   "cell_type": "code",
   "execution_count": 9,
   "id": "c0aa816f-ac4b-4841-9b14-87c0f40bcb8b",
   "metadata": {},
   "outputs": [],
   "source": [
    "#9.1 We need to melt the data frame and filter it to generate a datframe that contains the\n",
    "    #all survey items that were asked on a given survey.\n",
    "# Melt the DataFrame to a long format\n",
    "melted_df = all_OSDH_survey_df.melt(id_vars=['SurveyName'], \n",
    "                                     value_vars=survey_item_list, \n",
    "                                     var_name='Survey Item', \n",
    "                                     value_name='Response')\n",
    "# Filter to include only rows with non-null responses\n",
    "filtered_df = melted_df[melted_df['Response'].notna()]\n",
    "# Select distinct values\n",
    "result = filtered_df[['SurveyName', 'Survey Item']].drop_duplicates()\n",
    "\n",
    "#9.2 We need read in the index key and do a \n",
    "#Read in the excel file that has all the index info for the survey items:\n",
    "survey_item_index_key_df = pd.read_excel(\"Survey Item Indexes.xlsx\", sheet_name=\"Index Key\")\n",
    "\n",
    "comprehensive_survey_index_key= result.merge(survey_item_index_key_df, on='Survey Item', how='inner')\n",
    "\n",
    "#Appending Survey Indexes to excel dictionary\n",
    "excel_dfs[\"Survey Indexes\"] = comprehensive_survey_index_key\n",
    "index_excel_sheet = {'Excel Sheet': \"Survey Indexes\", 'Description': \"Contains corresponding Indexes for Survey Items.\"}\n",
    "excel_sheets_list.append(index_excel_sheet)\n",
    "\n",
    "#survey_item_index_key_df\n",
    "#result\n"
   ]
  },
  {
   "cell_type": "markdown",
   "id": "44f215a1-f13b-4960-aa62-890f327463bd",
   "metadata": {},
   "source": [
    "#10: Export and save to Excel file"
   ]
  },
  {
   "cell_type": "code",
   "execution_count": 10,
   "id": "28120937-cdfa-464e-ae22-fdeb64d49991",
   "metadata": {},
   "outputs": [],
   "source": [
    "#Concating all Excel Sheet Descriptions together:\n",
    "excel_dfs[\"Excel Sheets Descriptions\"] = pd.concat([excel_dfs[\"Excel Sheets Descriptions\"],pd.DataFrame(excel_sheets_list)], ignore_index=True)\n",
    "\n",
    "writer = pd.ExcelWriter(\"OSDH Survey Data (Tableau).xlsx\", engine='xlsxwriter')\n",
    "\n",
    "# loop through `dict` of dataframes\n",
    "for sheet, df in excel_dfs.items():  \n",
    "    df.to_excel(writer, sheet_name=sheet, index=False) \n",
    "    \n",
    "    #Saves Dataframe with filters turned on:\n",
    "    worksheet = writer.sheets[sheet]\n",
    "    worksheet.autofilter(0,0,df.shape[0],df.shape[1]-1)   \n",
    "    \n",
    "    #Adjusts sizes of columns for easier reading:\n",
    "    for column in df:\n",
    "        column_length = max(df[column].astype(str).map(len).max(), len(column) + 10) #9 for a bit of extra space\n",
    "        col_idx = df.columns.get_loc(column)\n",
    "        writer.sheets[sheet].set_column(col_idx, col_idx, column_length)\n",
    "\n",
    "writer.close()"
   ]
  }
 ],
 "metadata": {
  "kernelspec": {
   "display_name": "Python 3 (ipykernel)",
   "language": "python",
   "name": "python3"
  },
  "language_info": {
   "codemirror_mode": {
    "name": "ipython",
    "version": 3
   },
   "file_extension": ".py",
   "mimetype": "text/x-python",
   "name": "python",
   "nbconvert_exporter": "python",
   "pygments_lexer": "ipython3",
   "version": "3.11.4"
  }
 },
 "nbformat": 4,
 "nbformat_minor": 5
}
